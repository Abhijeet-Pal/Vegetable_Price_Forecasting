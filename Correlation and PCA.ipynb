{
 "cells": [
  {
   "cell_type": "code",
   "execution_count": 16,
   "id": "australian-baghdad",
   "metadata": {},
   "outputs": [
    {
     "name": "stdout",
     "output_type": "stream",
     "text": [
      "                                   Date  Vegetable  Festival  \\\n",
      "Date                           1.000000        NaN  0.161266   \n",
      "Vegetable                           NaN        NaN       NaN   \n",
      "Festival                       0.161266        NaN  1.000000   \n",
      "Rainfall (in mm)               0.118510        NaN -0.075983   \n",
      "Season                         0.934027        NaN  0.068065   \n",
      "Inflation                     -0.845804        NaN -0.111826   \n",
      "Average of prev 5 days Potato -0.787208        NaN -0.143278   \n",
      "Potato Arrival (In Tonnes)     0.628056        NaN  0.186733   \n",
      "Potato Price (Rounded)        -0.795517        NaN -0.229380   \n",
      "\n",
      "                               Rainfall (in mm)    Season  Inflation  \\\n",
      "Date                                   0.118510  0.934027  -0.845804   \n",
      "Vegetable                                   NaN       NaN        NaN   \n",
      "Festival                              -0.075983  0.068065  -0.111826   \n",
      "Rainfall (in mm)                       1.000000  0.173748  -0.225450   \n",
      "Season                                 0.173748  1.000000  -0.872772   \n",
      "Inflation                             -0.225450 -0.872772   1.000000   \n",
      "Average of prev 5 days Potato         -0.117408 -0.736025   0.753804   \n",
      "Potato Arrival (In Tonnes)            -0.063868  0.569750  -0.486918   \n",
      "Potato Price (Rounded)                -0.134637 -0.702133   0.748126   \n",
      "\n",
      "                               Average of prev 5 days Potato  \\\n",
      "Date                                               -0.787208   \n",
      "Vegetable                                                NaN   \n",
      "Festival                                           -0.143278   \n",
      "Rainfall (in mm)                                   -0.117408   \n",
      "Season                                             -0.736025   \n",
      "Inflation                                           0.753804   \n",
      "Average of prev 5 days Potato                       1.000000   \n",
      "Potato Arrival (In Tonnes)                         -0.496352   \n",
      "Potato Price (Rounded)                              0.884264   \n",
      "\n",
      "                               Potato Arrival (In Tonnes)  \\\n",
      "Date                                             0.628056   \n",
      "Vegetable                                             NaN   \n",
      "Festival                                         0.186733   \n",
      "Rainfall (in mm)                                -0.063868   \n",
      "Season                                           0.569750   \n",
      "Inflation                                       -0.486918   \n",
      "Average of prev 5 days Potato                   -0.496352   \n",
      "Potato Arrival (In Tonnes)                       1.000000   \n",
      "Potato Price (Rounded)                          -0.616517   \n",
      "\n",
      "                               Potato Price (Rounded)  \n",
      "Date                                        -0.795517  \n",
      "Vegetable                                         NaN  \n",
      "Festival                                    -0.229380  \n",
      "Rainfall (in mm)                            -0.134637  \n",
      "Season                                      -0.702133  \n",
      "Inflation                                    0.748126  \n",
      "Average of prev 5 days Potato                0.884264  \n",
      "Potato Arrival (In Tonnes)                  -0.616517  \n",
      "Potato Price (Rounded)                       1.000000  \n",
      "\n",
      "\n",
      "[5.66238251e-01 1.64086261e-01 1.25083295e-01 7.39695659e-02\n",
      " 4.28810215e-02 2.07477238e-02 6.99388184e-03 8.25753317e-35]\n"
     ]
    },
    {
     "name": "stderr",
     "output_type": "stream",
     "text": [
      "C:\\Users\\abhij\\AppData\\Local\\Temp/ipykernel_49564/945319494.py:10: FutureWarning: In a future version of pandas all arguments of DataFrame.drop except for the argument 'labels' will be keyword-only\n",
      "  X = df.drop('Potato Price (Rounded)', 1)\n"
     ]
    }
   ],
   "source": [
    "import numpy as np \n",
    "import pandas as pd \n",
    "import matplotlib as mpl\n",
    "import matplotlib.pyplot as plt\n",
    "import seaborn as sns\n",
    "%matplotlib inline\n",
    "dataset = pd.read_csv('D:\\Forecasting_Internship\\Only_few_dates.csv')\n",
    "print(dataset.corr())\n",
    "\n",
    "X = df.drop('Potato Price (Rounded)', 1)\n",
    "y = df['Potato Price (Rounded)']\n",
    "from sklearn.model_selection import train_test_split\n",
    "\n",
    "X_train, X_test, y_train, y_test = train_test_split(X, y, test_size=0.2, random_state=0)\n",
    "from sklearn.preprocessing import StandardScaler\n",
    "\n",
    "sc = StandardScaler()\n",
    "X_train = sc.fit_transform(X_train)\n",
    "X_test = sc.transform(X_test)\n",
    "from sklearn.decomposition import PCA\n",
    "\n",
    "pca = PCA()\n",
    "X_train = pca.fit_transform(X_train)\n",
    "X_test = pca.transform(X_test)\n",
    "explained_variance = pca.explained_variance_ratio_\n",
    "print('\\n')\n",
    "\n",
    "print(explained_variance)\n",
    "\n"
   ]
  },
  {
   "cell_type": "code",
   "execution_count": null,
   "id": "italian-salmon",
   "metadata": {},
   "outputs": [],
   "source": []
  }
 ],
 "metadata": {
  "kernelspec": {
   "display_name": "Python 3 (ipykernel)",
   "language": "python",
   "name": "python3"
  },
  "language_info": {
   "codemirror_mode": {
    "name": "ipython",
    "version": 3
   },
   "file_extension": ".py",
   "mimetype": "text/x-python",
   "name": "python",
   "nbconvert_exporter": "python",
   "pygments_lexer": "ipython3",
   "version": "3.9.2"
  }
 },
 "nbformat": 4,
 "nbformat_minor": 5
}
